{
 "cells": [
  {
   "cell_type": "markdown",
   "metadata": {},
   "source": [
    "## Intro\n",
    "\n",
    "Exploring the Star Wars API. This is an open and free-to-use API that provides all information you could possibly need about Star Wars.\n",
    "\n",
    "You can read about the project on the page\n",
    "\n",
    "https://swapi.dev/about\n",
    "\n",
    "and access the technical documentation for the API on the page\n",
    "\n",
    "https://swapi.dev/documentation\n",
    "\n",
    "Using an API requires that you get the relevant information from its documentation. This API has great documentation, so be sure to check it carefully. The documentation\n",
    "contains all the details you need to answer the questions below."
   ]
  },
  {
   "cell_type": "markdown",
   "metadata": {},
   "source": [
    "## Example 1\n",
    "\n",
    "You can access information about 10 planets in Star Wars by sending a get request (without any parameters) to\n",
    "\n",
    "http://swapi.dev/api/planets/"
   ]
  },
  {
   "cell_type": "markdown",
   "metadata": {},
   "source": [
    "1.1) A for loop to print out the names of all 10 planets"
   ]
  },
  {
   "cell_type": "code",
   "execution_count": 1,
   "metadata": {},
   "outputs": [
    {
     "name": "stdout",
     "output_type": "stream",
     "text": [
      "Tatooine\n",
      "Alderaan\n",
      "Yavin IV\n",
      "Hoth\n",
      "Dagobah\n",
      "Bespin\n",
      "Endor\n",
      "Naboo\n",
      "Coruscant\n",
      "Kamino\n"
     ]
    }
   ],
   "source": [
    "# Answer to Example 1.1\n",
    "import requests, json\n",
    "url = \"http://swapi.dev/api/planets/\"\n",
    "response = requests.get(url)\n",
    "data = json.loads(response.text)\n",
    "for i in range(10):\n",
    "    print(data['results'][i]['name'])"
   ]
  },
  {
   "cell_type": "markdown",
   "metadata": {},
   "source": [
    "1.2) A function called get_planet_population that takes as an argument a string called 'planet_name'. \n",
    "- the population of that planet *as a number*, if that planet is among the 10 planets listed in the data returned by an API call to http://swapi.dev/api/planets/ and the API lists its population; or\n",
    "- the special Python value None, if that planet is among the 10 planets listed in the data returned by an API call to http://swapi.dev/api/planets/ and the API tells you the population is 'unknown'.\n",
    "- the string \"unknown planet\", if that planet is not among the 10 planets listed in the data returned by an API call to http://swapi.dev/api/planets/."
   ]
  },
  {
   "cell_type": "code",
   "execution_count": 2,
   "metadata": {},
   "outputs": [],
   "source": [
    "# Answer to Example 1.2\n",
    "def get_planet_population(planet_name):\n",
    "    import requests, json\n",
    "    url = \"http://swapi.dev/api/planets/\"\n",
    "    response = requests.get(url)\n",
    "    data = json.loads(response.text)\n",
    "    for i in range(10):\n",
    "        if planet_name == data['results'][i]['name']:\n",
    "            if data['results'][i]['population'] == 'unknown':\n",
    "                return None\n",
    "            return data['results'][i]['population']\n",
    "    return \"unknown planet\""
   ]
  },
  {
   "cell_type": "code",
   "execution_count": 3,
   "metadata": {
    "scrolled": true
   },
   "outputs": [
    {
     "name": "stdout",
     "output_type": "stream",
     "text": [
      "200000\n",
      "None\n",
      "unknown planet\n"
     ]
    }
   ],
   "source": [
    "#Tests for Example 1.2\n",
    "print(get_planet_population(\"Tatooine\")) ## vanilla exmaple planet\n",
    "print(get_planet_population(\"Hoth\")) ## planet with unknown population\n",
    "print(get_planet_population(\"XYZ\")) ## planet that doesn't exit"
   ]
  },
  {
   "cell_type": "markdown",
   "metadata": {},
   "source": [
    "1.3) Print the names of all planets, from among the 10 planets returned by a call to http://swapi.dev/api/planets/, that have a population less than or equal to 30000000 and whose climate description includes the word 'temperate'."
   ]
  },
  {
   "cell_type": "code",
   "execution_count": 4,
   "metadata": {},
   "outputs": [
    {
     "name": "stdout",
     "output_type": "stream",
     "text": [
      "Yavin IV\n",
      "Bespin\n",
      "Endor\n"
     ]
    }
   ],
   "source": [
    "# Answer to Example 1.3\n",
    "import requests, json\n",
    "url = \"http://swapi.dev/api/planets/\"\n",
    "response = requests.get(url)\n",
    "data = json.loads(response.text)\n",
    "for i in range(10):\n",
    "    if  data['results'][i]['population'] != 'unknown'  and int(data['results'][i]['population']) <= 30000000 and \\\n",
    "        'temperate' in data['results'][i]['climate']:\n",
    "        print(data['results'][i]['name'])"
   ]
  },
  {
   "cell_type": "markdown",
   "metadata": {},
   "source": [
    "## Example 2\n",
    "\n",
    "In this exmaple, I will use a **while loop** to issue requests for information about all starships in Star Wars. The API to use is located at\n",
    "\n",
    "http://swapi.dev/api/starships/\n",
    "\n",
    "Note that the data you get back is a dictionary that contains a key called 'next'. The value for that key is the URL to which you should send the next request using requests.get() to fetch the additional batch of information about the following 10 starships. "
   ]
  },
  {
   "cell_type": "markdown",
   "metadata": {},
   "source": [
    "2.1) Retrieve information about *all* starships available via this API and store it in a list called 'starships'.\n",
    "\n",
    "The typical way to fetch all results from an API is to use a while loop that will retrieve a batch of 10 results, add them to a list (or similar data structure) and then send another request for more results *if the value for the key 'next' in the dictionary in the previous response contained a URL*. When you retrieve the final batch of results and no more results are available, the server will send you a dictionary that will probably still contain results you need to add to the list but the value for key 'next' will be None (rather than a URL). Therefore, one common strategy is to have your while loop end when the value for key 'next' == None. Notice that None is a special value in Python (like True or False) and is *not* surrounded in quotes!"
   ]
  },
  {
   "cell_type": "code",
   "execution_count": 5,
   "metadata": {},
   "outputs": [],
   "source": [
    "# Answer to Example 2.1\n",
    "starships = []\n",
    "import requests, json\n",
    "url = \"http://swapi.dev/api/starships/\"\n",
    "number = 1\n",
    "parameters = {'page': number}\n",
    "response = requests.get(url, parameters)\n",
    "data = json.loads(response.text)\n",
    "while (data['next']!= None):\n",
    "    response = requests.get(url, parameters)\n",
    "    data = json.loads(response.text)\n",
    "    length = len(data['results'])\n",
    "    for i in range(length):\n",
    "        starships.append(data['results'][i]['name'])\n",
    "    number += 1\n",
    "    parameters = {'page': number}"
   ]
  },
  {
   "cell_type": "code",
   "execution_count": 6,
   "metadata": {
    "scrolled": true
   },
   "outputs": [
    {
     "name": "stdout",
     "output_type": "stream",
     "text": [
      "['CR90 corvette', 'Star Destroyer', 'Sentinel-class landing craft', 'Death Star', 'Millennium Falcon', 'Y-wing', 'X-wing', 'TIE Advanced x1', 'Executor', 'Rebel transport', 'Slave 1', 'Imperial shuttle', 'EF76 Nebulon-B escort frigate', 'Calamari Cruiser', 'A-wing', 'B-wing', 'Republic Cruiser', 'Droid control ship', 'Naboo fighter', 'Naboo Royal Starship', 'Scimitar', 'J-type diplomatic barge', 'AA-9 Coruscant freighter', 'Jedi starfighter', 'H-type Nubian yacht', 'Republic Assault ship', 'Solar Sailer', 'Trade Federation cruiser', 'Theta-class T-2c shuttle', 'Republic attack cruiser', 'Naboo star skiff', 'Jedi Interceptor', 'arc-170', 'Banking clan frigte', 'Belbullab-22 starfighter', 'V-wing']\n"
     ]
    }
   ],
   "source": [
    "#Test Example 2.1 \n",
    "print(starships)"
   ]
  },
  {
   "cell_type": "markdown",
   "metadata": {},
   "source": [
    "2.2) Print out the name of the fastest starship Star Wars. As indicated in the API documentation, speed is given by the MGLT (Maximum number of Megalights) attribute of a starship.  "
   ]
  },
  {
   "cell_type": "code",
   "execution_count": 7,
   "metadata": {},
   "outputs": [],
   "source": [
    "# Answer to Example 2.2\n",
    "fastest_starship = ''\n",
    "max_speed = 0\n",
    "import requests, json\n",
    "url = \"http://swapi.dev/api/starships/\"\n",
    "number = 1\n",
    "parameters = {'page': number}\n",
    "response = requests.get(url, parameters)\n",
    "data = json.loads(response.text)\n",
    "while (data['next']!= None):\n",
    "    response = requests.get(url, parameters)\n",
    "    data = json.loads(response.text)\n",
    "    length = len(data['results'])\n",
    "    for i in range(length):\n",
    "        if data['results'][i]['MGLT'] != 'unknown' and int(data['results'][i]['MGLT']) > max_speed:\n",
    "            max_speed = int(data['results'][i]['MGLT'])\n",
    "            fastest_starship = data['results'][i]['name']\n",
    "    number += 1\n",
    "    parameters = {'page': number}"
   ]
  },
  {
   "cell_type": "code",
   "execution_count": 8,
   "metadata": {},
   "outputs": [
    {
     "name": "stdout",
     "output_type": "stream",
     "text": [
      "The fastest starship is A-wing and its MGLT(speed) is 120\n"
     ]
    }
   ],
   "source": [
    "# Test\n",
    "print(\"The fastest starship is %s and its MGLT(speed) is %d\" %(fastest_starship, max_speed))\n",
    "# print(fastest_starship)\n",
    "# print(max_speed)"
   ]
  }
 ],
 "metadata": {
  "kernelspec": {
   "display_name": "Python 3",
   "language": "python",
   "name": "python3"
  },
  "language_info": {
   "codemirror_mode": {
    "name": "ipython",
    "version": 3
   },
   "file_extension": ".py",
   "mimetype": "text/x-python",
   "name": "python",
   "nbconvert_exporter": "python",
   "pygments_lexer": "ipython3",
   "version": "3.8.3"
  }
 },
 "nbformat": 4,
 "nbformat_minor": 4
}
